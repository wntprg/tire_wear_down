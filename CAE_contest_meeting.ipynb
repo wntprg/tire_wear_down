{
 "cells": [
  {
   "cell_type": "code",
   "execution_count": null,
   "metadata": {},
   "outputs": [],
   "source": [
    "'''\n",
    "\n",
    "2022_08_22.\n",
    "\n",
    "    승재\n",
    "        -주제의 명확성 (+주제 선정 이유)\n",
    "\n",
    "    정민\n",
    "        -기획_해야될것_정리\n",
    "\n",
    "    결론\n",
    "        -주제의 명확성 정하기\n",
    "\n",
    "'''"
   ]
  },
  {
   "cell_type": "code",
   "execution_count": null,
   "metadata": {},
   "outputs": [],
   "source": [
    "'''\n",
    "\n",
    "2022_08_23.\n",
    "\n",
    "\n",
    "    승재\n",
    "        - 최대 km/h일 때 마모량에 따른 배수능력\n",
    "        - 마모량에 따른 타이어의 응력분석과 안전율 계산\n",
    "        - 마모의 위험성 -> 수막현성, 타이어 파손\n",
    "\n",
    "    정민\n",
    "        - 모델링 해석을 무작정 시작하는 것보다 의논시간이 좀 더 길어져야 할 것 같다.\n",
    "        - ansys 결과 데이터들이 뭐가 있는 지 확인 해보자.\n",
    "\n",
    "\n",
    "    결론 \n",
    "        - 어떤 이유에서든 일단 마모가 됐고, 마모량과 여러 변수들에 따른 제동거리\n",
    "        - 어떤 이유에서든 일단 마모가 됐고, 마모량과 여러 변수들에 따른 안전성\n",
    "        - 마모가 어떤 상황에서 얼만큼 발생되었는가는 패스 하기로 함.\n",
    "\n",
    "    to do\n",
    "        - 결과에 영향을 줄 수 있는 변수들은 어떤 것들이 있는 지 논문 읽어보기\n",
    "        - 만약 이미 변수들이 나와있다면 그 논문의 허점이나 더 정확도를 높이기 위하여 무엇을 해야하는 지\n",
    "        - 해석을 위한 테스트 모델링 하기\n",
    "\n",
    "\n",
    "'''"
   ]
  },
  {
   "cell_type": "code",
   "execution_count": null,
   "metadata": {},
   "outputs": [],
   "source": []
  }
 ],
 "metadata": {
  "kernelspec": {
   "display_name": "Python 3.10.5 64-bit",
   "language": "python",
   "name": "python3"
  },
  "language_info": {
   "codemirror_mode": {
    "name": "ipython",
    "version": 3
   },
   "file_extension": ".py",
   "mimetype": "text/x-python",
   "name": "python",
   "nbconvert_exporter": "python",
   "pygments_lexer": "ipython3",
   "version": "3.10.5"
  },
  "orig_nbformat": 4,
  "vscode": {
   "interpreter": {
    "hash": "56eee1b2c0fc666285e3bd567ee6e1ffd82635af78b0b3b8a441a631077386f9"
   }
  }
 },
 "nbformat": 4,
 "nbformat_minor": 2
}
