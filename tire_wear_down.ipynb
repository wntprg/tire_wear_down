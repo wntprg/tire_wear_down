{
 "cells": [
  {
   "cell_type": "code",
   "execution_count": null,
   "metadata": {},
   "outputs": [],
   "source": [
    "'''\n",
    "주제 : 타이어 마모량 예측 알고리즘 개발\n",
    "\n",
    "1. 실험\n",
    "    - 상황에 따른 타이어 마모량 실험\n",
    "    - \n",
    "\n",
    "\n",
    "2. 해석\n",
    "'https://www.youtube.com/watch?v=Y5YkBzuhK4I'   ->  타이어 해석\n",
    "'https://www.youtube.com/watch?v=Zeqz_le_xxU'   ->  타이어 해석\n",
    "'https://www.youtube.com/watch?v=vnAp7OVVOX8'   ->  타이어 해석\n",
    "'https://www.youtube.com/watch?v=HH8iGGYFXjc'   ->  타이어 해석 (수막현상 포함)\n",
    "'https://www.youtube.com/watch?v=F44Zxb9xnRo'   ->  충돌해석\n",
    "\n",
    "\n",
    "\n",
    "    - modeling\n",
    "        - 타이어\n",
    "\n",
    "    - workbench_analysis\n",
    "        - 전제 조건\n",
    "            - 무늬\n",
    "            - 재질\n",
    "            - 마찰계수\n",
    "            - 탄성계수\n",
    "            - 전단계수\n",
    "\n",
    "        - 경계 조건\n",
    "            - 고정\n",
    "            - 속도\n",
    "            - 열팽창\n",
    "            - 열압축\n",
    "            - 마찰\n",
    "            - 하중\n",
    "        \n",
    "        - 해석 결과\n",
    "            - 응력\n",
    "            - 변형률\n",
    "            - 피로한도\n",
    "            - 안전율\n",
    "\n",
    "\n",
    "\n",
    "\n",
    "3. 예측\n",
    "\n",
    "'''"
   ]
  }
 ],
 "metadata": {
  "kernelspec": {
   "display_name": "Python 3.10.5 64-bit",
   "language": "python",
   "name": "python3"
  },
  "language_info": {
   "codemirror_mode": {
    "name": "ipython",
    "version": 3
   },
   "file_extension": ".py",
   "mimetype": "text/x-python",
   "name": "python",
   "nbconvert_exporter": "python",
   "pygments_lexer": "ipython3",
   "version": "3.10.5"
  },
  "orig_nbformat": 4,
  "vscode": {
   "interpreter": {
    "hash": "56eee1b2c0fc666285e3bd567ee6e1ffd82635af78b0b3b8a441a631077386f9"
   }
  }
 },
 "nbformat": 4,
 "nbformat_minor": 2
}
